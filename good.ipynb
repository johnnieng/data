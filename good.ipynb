{
    "cells": [
        {
            "metadata": {
                "button": false,
                "new_sheet": false,
                "run_control": {
                    "read_only": false
                }
            },
            "cell_type": "markdown",
            "source": "<a href=\"https://cognitiveclass.ai\"><img src = \"https://s3-api.us-geo.objectstorage.softlayer.net/cf-courses-data/CognitiveClass/Logos/organization_logo/organization_logo.png\" width = 400> </a>\n\n<h1 align=center><font size = 5>Peer Review Final Assignment</font></h1>"
        },
        {
            "metadata": {
                "button": false,
                "new_sheet": false,
                "run_control": {
                    "read_only": false
                }
            },
            "cell_type": "markdown",
            "source": "## Introduction\n"
        },
        {
            "metadata": {
                "button": false,
                "new_sheet": false,
                "run_control": {
                    "read_only": false
                }
            },
            "cell_type": "markdown",
            "source": "In this lab, you will build an image classifier using the VGG16 pre-trained model, and you will evaluate it and compare its performance to the model we built in the last module using the ResNet50 pre-trained model. Good luck!"
        },
        {
            "metadata": {
                "button": false,
                "new_sheet": false,
                "run_control": {
                    "read_only": false
                }
            },
            "cell_type": "markdown",
            "source": "## Table of Contents\n\n<div class=\"alert alert-block alert-info\" style=\"margin-top: 20px\">\n\n<font size = 3>    \n\n1. <a href=\"#item41\">Download Data \n2. <a href=\"#item42\">Part 1</a>\n3. <a href=\"#item43\">Part 2</a>  \n4. <a href=\"#item44\">Part 3</a>  \n\n</font>\n    \n</div>"
        },
        {
            "metadata": {
                "button": false,
                "new_sheet": false,
                "run_control": {
                    "read_only": false
                }
            },
            "cell_type": "markdown",
            "source": "   "
        },
        {
            "metadata": {},
            "cell_type": "markdown",
            "source": "<a id=\"item41\"></a>"
        },
        {
            "metadata": {},
            "cell_type": "markdown",
            "source": "## Download Data"
        },
        {
            "metadata": {},
            "cell_type": "markdown",
            "source": "Use the <code>wget</code> command to download the data for this assignment from here: https://s3-api.us-geo.objectstorage.softlayer.net/cf-courses-data/CognitiveClass/DL0321EN/data/concrete_data_week4.zip"
        },
        {
            "metadata": {},
            "cell_type": "markdown",
            "source": "Use the following cells to download the data."
        },
        {
            "metadata": {
                "scrolled": true
            },
            "cell_type": "code",
            "source": "!wget https://s3-api.us-geo.objectstorage.softlayer.net/cf-courses-data/CognitiveClass/DL0321EN/data/concrete_data_week4.zip",
            "execution_count": 10,
            "outputs": [
                {
                    "name": "stdout",
                    "output_type": "stream",
                    "text": "--2020-05-02 19:20:21--  https://s3-api.us-geo.objectstorage.softlayer.net/cf-courses-data/CognitiveClass/DL0321EN/data/concrete_data_week4.zip\nResolving s3-api.us-geo.objectstorage.softlayer.net (s3-api.us-geo.objectstorage.softlayer.net)... 67.228.254.196\nConnecting to s3-api.us-geo.objectstorage.softlayer.net (s3-api.us-geo.objectstorage.softlayer.net)|67.228.254.196|:443... connected.\nHTTP request sent, awaiting response... 200 OK\nLength: 261483817 (249M) [application/zip]\nSaving to: \u2018concrete_data_week4.zip.3\u2019\n\n100%[======================================>] 261,483,817 46.8MB/s   in 5.7s   \n\n2020-05-02 19:20:27 (43.6 MB/s) - \u2018concrete_data_week4.zip.3\u2019 saved [261483817/261483817]\n\n"
                }
            ]
        },
        {
            "metadata": {},
            "cell_type": "code",
            "source": "#!unzip concrete_data_week4.zip",
            "execution_count": 11,
            "outputs": []
        },
        {
            "metadata": {},
            "cell_type": "code",
            "source": "from keras.preprocessing.image import ImageDataGenerator\nimport keras\nfrom keras.models import Sequential\nfrom keras.layers import Dense\nfrom keras.applications import ResNet50\nfrom keras.applications.resnet50 import preprocess_input\n## get the data\n!wget https://s3-api.us-geo.objectstorage.softlayer.net/cf-courses-data/CognitiveClass/DL0321EN/data/concrete_data_week3.zip\n#!unzip concrete_data_week3.zip\nnum_classes = 2\n\nimage_resize = 224\n\nbatch_size_training = 100\nbatch_size_validation = 100\ndata_generator = ImageDataGenerator(\n    preprocessing_function=preprocess_input,\n)\ntrain_generator = data_generator.flow_from_directory(\n    'concrete_data_week3/train',\n    target_size=(image_resize, image_resize),\n    batch_size=batch_size_training,\n    class_mode='categorical')\n\nvalidation_generator = data_generator.flow_from_directory(\n    'concrete_data_week3/valid',\n    target_size=(image_resize, image_resize),\n    batch_size=batch_size_validation,\n    class_mode='categorical')\nmodel = Sequential()\nmodel.add(ResNet50(\n    include_top=False,\n    pooling='avg',\n    weights='imagenet',\n    ))\nmodel.add(Dense(num_classes, activation='softmax'))\nmodel.layers\nmodel.layers[0].layers\nmodel.layers[0].trainable = False\nmodel.summary()\nmodel.compile(optimizer='adam', loss='categorical_crossentropy', metrics=['accuracy'])\nsteps_per_epoch_training = len(train_generator)\nsteps_per_epoch_validation = len(validation_generator)\nnum_epochs = 1\nfit_history = model.fit_generator(\n    train_generator,\n    steps_per_epoch=steps_per_epoch_training,\n    epochs=num_epochs,\n    validation_data=validation_generator,\n    validation_steps=steps_per_epoch_validation,\n    verbose=1,\n)\nmodel.save('classifier_resnet_model.h5')",
            "execution_count": 12,
            "outputs": [
                {
                    "name": "stdout",
                    "output_type": "stream",
                    "text": "--2020-05-02 19:20:28--  https://s3-api.us-geo.objectstorage.softlayer.net/cf-courses-data/CognitiveClass/DL0321EN/data/concrete_data_week3.zip\nResolving s3-api.us-geo.objectstorage.softlayer.net (s3-api.us-geo.objectstorage.softlayer.net)... 67.228.254.196\nConnecting to s3-api.us-geo.objectstorage.softlayer.net (s3-api.us-geo.objectstorage.softlayer.net)|67.228.254.196|:443... connected.\nHTTP request sent, awaiting response... 200 OK\nLength: 261482368 (249M) [application/zip]\nSaving to: \u2018concrete_data_week3.zip.3\u2019\n\n100%[======================================>] 261,482,368 45.1MB/s   in 5.9s   \n\n2020-05-02 19:20:35 (42.2 MB/s) - \u2018concrete_data_week3.zip.3\u2019 saved [261482368/261482368]\n\nFound 30001 images belonging to 2 classes.\nFound 10001 images belonging to 2 classes.\n_________________________________________________________________\nLayer (type)                 Output Shape              Param #   \n=================================================================\nresnet50 (Model)             (None, 2048)              23587712  \n_________________________________________________________________\ndense_2 (Dense)              (None, 2)                 4098      \n=================================================================\nTotal params: 23,591,810\nTrainable params: 4,098\nNon-trainable params: 23,587,712\n_________________________________________________________________\nEpoch 1/1\n301/301 [==============================] - 14458s 48s/step - loss: 0.0442 - acc: 0.9871 - val_loss: 0.2954 - val_acc: 0.8793\n"
                }
            ]
        },
        {
            "metadata": {},
            "cell_type": "markdown",
            "source": "After you unzip the data, you fill find the data has already been divided into a train, validation, and test sets."
        },
        {
            "metadata": {},
            "cell_type": "markdown",
            "source": "  "
        },
        {
            "metadata": {
                "button": false,
                "new_sheet": false,
                "run_control": {
                    "read_only": false
                }
            },
            "cell_type": "markdown",
            "source": "<a id=\"item42\"></a>"
        },
        {
            "metadata": {},
            "cell_type": "markdown",
            "source": "## Part 1"
        },
        {
            "metadata": {},
            "cell_type": "markdown",
            "source": "In this part, you will design a classifier using the VGG16 pre-trained model. Just like the ResNet50 model, you can import the model <code>VGG16</code> from <code>keras.applications</code>."
        },
        {
            "metadata": {},
            "cell_type": "markdown",
            "source": "You will essentially build your classifier as follows:\n1. Import libraries, modules, and packages you will need. Make sure to import the *preprocess_input* function from <code>keras.applications.vgg16</code>.\n2. Use a batch size of 100 images for both training and validation.\n3. Construct an ImageDataGenerator for the training set and another one for the validation set. VGG16 was originally trained on 224 \u00d7 224 images, so make sure to address that when defining the ImageDataGenerator instances.\n4. Create a sequential model using Keras. Add VGG16 model to it and dense layer.\n5. Compile the mode using the adam optimizer and the categorical_crossentropy loss function.\n6. Fit the model on the augmented data using the ImageDataGenerators."
        },
        {
            "metadata": {},
            "cell_type": "markdown",
            "source": "Use the following cells to create your classifier."
        },
        {
            "metadata": {},
            "cell_type": "code",
            "source": "# Import libraries, modules, and packages you will need. \n# Make sure to import the preprocess_input function from keras.applications.vgg16.\nfrom keras.preprocessing.image import ImageDataGenerator\nfrom keras.models import Sequential\nfrom keras.layers import Dense\nfrom keras.applications import VGG16\nfrom keras.applications.vgg16 import preprocess_input",
            "execution_count": 13,
            "outputs": []
        },
        {
            "metadata": {},
            "cell_type": "code",
            "source": "# Use a batch size of 100 images for both training and validation.\nnum_classes = 2\nimage_resize = 224\nbatch_size_training = 100\nbatch_size_validation = 100",
            "execution_count": 14,
            "outputs": []
        },
        {
            "metadata": {
                "scrolled": true
            },
            "cell_type": "code",
            "source": "# Construct an ImageDataGenerator for the training set and another one for the validation set. \ndata_generator = ImageDataGenerator(preprocessing_function = preprocess_input)",
            "execution_count": 15,
            "outputs": []
        },
        {
            "metadata": {},
            "cell_type": "code",
            "source": "# VGG16 was originally trained on 224 \u00d7 224 images, so make sure to address that when defining the ImageDataGenerator instances.\ntrain_generator = data_generator.flow_from_directory(\n    'concrete_data_week4/train',\n    target_size = (image_resize, image_resize),\n    batch_size = batch_size_training,\n    class_mode = 'categorical')\nvalidation_generator = data_generator.flow_from_directory(\n    'concrete_data_week4/valid',\n    target_size = (image_resize, image_resize),\n    batch_size = batch_size_validation,\n    class_mode = 'categorical')",
            "execution_count": 16,
            "outputs": [
                {
                    "name": "stdout",
                    "output_type": "stream",
                    "text": "Found 30001 images belonging to 2 classes.\nFound 9501 images belonging to 2 classes.\n"
                }
            ]
        },
        {
            "metadata": {},
            "cell_type": "code",
            "source": "# Create a sequential model using Keras. \nmodel = Sequential()",
            "execution_count": 17,
            "outputs": []
        },
        {
            "metadata": {},
            "cell_type": "code",
            "source": "# Add VGG16 model to it and dense layer.\nmodel.add(VGG16(include_top=False, pooling='avg', weights='imagenet'))\nmodel.add(Dense(num_classes, activation='softmax'))\nmodel.layers[0].trainable = False",
            "execution_count": 18,
            "outputs": [
                {
                    "name": "stdout",
                    "output_type": "stream",
                    "text": "Downloading data from https://github.com/fchollet/deep-learning-models/releases/download/v0.1/vgg16_weights_tf_dim_ordering_tf_kernels_notop.h5\n58892288/58889256 [==============================] - 1s 0us/step\n"
                }
            ]
        },
        {
            "metadata": {},
            "cell_type": "code",
            "source": "# Compile the mode using the adam optimizer and the categorical_crossentropy loss function.\nmodel.compile(optimizer='adam', loss='categorical_crossentropy',metrics=['accuracy'])\nmodel.summary()",
            "execution_count": 19,
            "outputs": [
                {
                    "name": "stdout",
                    "output_type": "stream",
                    "text": "_________________________________________________________________\nLayer (type)                 Output Shape              Param #   \n=================================================================\nvgg16 (Model)                (None, 512)               14714688  \n_________________________________________________________________\ndense_3 (Dense)              (None, 2)                 1026      \n=================================================================\nTotal params: 14,715,714\nTrainable params: 1,026\nNon-trainable params: 14,714,688\n_________________________________________________________________\n"
                }
            ]
        },
        {
            "metadata": {},
            "cell_type": "code",
            "source": "# Fit the model on the augmented data using the ImageDataGenerators.\nsteps_per_epoch_training = len(train_generator)\nsteps_per_epoch_validation = len(validation_generator)\nnum_epochs = 1\nfit_history = model.fit_generator(\n    train_generator,\n    steps_per_epoch = steps_per_epoch_training,\n    epochs = num_epochs,\n    validation_data = validation_generator,\n    validation_steps = steps_per_epoch_validation,\n    verbose = 1,\n)\nmodel.save('classifier_vgg16_model.h5')",
            "execution_count": 20,
            "outputs": [
                {
                    "name": "stdout",
                    "output_type": "stream",
                    "text": "Epoch 1/1\n301/301 [==============================] - 12731s 42s/step - loss: 0.0991 - val_loss: 0.0228\n"
                }
            ]
        },
        {
            "metadata": {},
            "cell_type": "code",
            "source": "",
            "execution_count": null,
            "outputs": []
        },
        {
            "metadata": {},
            "cell_type": "code",
            "source": "",
            "execution_count": null,
            "outputs": []
        },
        {
            "metadata": {},
            "cell_type": "code",
            "source": "",
            "execution_count": null,
            "outputs": []
        },
        {
            "metadata": {},
            "cell_type": "markdown",
            "source": "   "
        },
        {
            "metadata": {},
            "cell_type": "markdown",
            "source": "<a id=\"item43\"></a>"
        },
        {
            "metadata": {},
            "cell_type": "markdown",
            "source": "## Part 2"
        },
        {
            "metadata": {},
            "cell_type": "markdown",
            "source": "In this part, you will evaluate your deep learning models on a test data. For this part, you will need to do the following:\n\n1. Load your saved model that was built using the ResNet50 model. \n2. Construct an ImageDataGenerator for the test set. For this ImageDataGenerator instance, you only need to pass the directory of the test images, target size, and the **shuffle** parameter and set it to False.\n3. Use the **evaluate_generator** method to evaluate your models on the test data, by passing the above ImageDataGenerator as an argument. You can learn more about **evaluate_generator** [here](https://keras.io/models/sequential/).\n4. Print the performance of the classifier using the VGG16 pre-trained model.\n5. Print the performance of the classifier using the ResNet pre-trained model.\n"
        },
        {
            "metadata": {},
            "cell_type": "markdown",
            "source": "Use the following cells to evaluate your models."
        },
        {
            "metadata": {},
            "cell_type": "code",
            "source": "# Load your saved model that was built using the ResNet50 model.\n\nimport keras\nmodelresnet = keras.models.load_model('classifier_resnet_model.h5')\nvgg16model = keras.models.load_model('classifier_vgg16_model.h5')\n\n#from keras.models import load_model\n#resnet50model = load_model('classifier_resnet_model.h5')\n#vgg16model=load_model('classifier_vgg16_model.h5')",
            "execution_count": 19,
            "outputs": []
        },
        {
            "metadata": {},
            "cell_type": "code",
            "source": "# Construct an ImageDataGenerator for the test set. \n# For this ImageDataGenerator instance, you only need to pass the directory of the test images, target size, and the **shuffle** parameter and set it to False.\n\nfrom keras.preprocessing.image import ImageDataGenerator\nfrom keras.applications.vgg16 import preprocess_input\nnum_classes = 2\nimage_resize = 224\nbatch_size_training = 100\nbatch_size_validation = 100\n\ndata_generator = ImageDataGenerator(preprocessing_function = preprocess_input)\n\ntest_generator = data_generator.flow_from_directory(\n    'concrete_data_week4/test',\n    target_size=(image_resize, image_resize),\n    batch_size=batch_size_training,\n    shuffle=False,\n    class_mode='categorical')\n",
            "execution_count": 20,
            "outputs": [
                {
                    "name": "stdout",
                    "output_type": "stream",
                    "text": "Found 500 images belonging to 2 classes.\n"
                }
            ]
        },
        {
            "metadata": {},
            "cell_type": "code",
            "source": "steps_per_epoch_testing = len(test_generator)\nscoreResnet = modelresnet.evaluate_generator(test_generator, steps_per_epoch_testing ,verbose=1)",
            "execution_count": 21,
            "outputs": [
                {
                    "name": "stdout",
                    "output_type": "stream",
                    "text": "5/5 [==============================] - 260s 52s/step\n"
                }
            ]
        },
        {
            "metadata": {},
            "cell_type": "code",
            "source": "print(scoreResnet)",
            "execution_count": 22,
            "outputs": [
                {
                    "name": "stdout",
                    "output_type": "stream",
                    "text": "[0.27586633719911335, 0.8860000014305115]\n"
                }
            ]
        },
        {
            "metadata": {},
            "cell_type": "code",
            "source": "scorevgg16_2 = vgg16model.evaluate_generator(test_generator, steps_per_epoch_testing ,verbose=1)\nprint(scorevgg16_2)",
            "execution_count": 24,
            "outputs": [
                {
                    "name": "stdout",
                    "output_type": "stream",
                    "text": "5/5 [==============================] - 163s 33s/step\n0.01873464621603489\n"
                }
            ]
        },
        {
            "metadata": {},
            "cell_type": "code",
            "source": "# The VGG16 model performs better than ResNet50",
            "execution_count": null,
            "outputs": []
        },
        {
            "metadata": {},
            "cell_type": "markdown",
            "source": "   "
        },
        {
            "metadata": {},
            "cell_type": "markdown",
            "source": "<a id=\"item44\"></a>"
        },
        {
            "metadata": {},
            "cell_type": "markdown",
            "source": "## Part 3"
        },
        {
            "metadata": {},
            "cell_type": "markdown",
            "source": "In this model, you will predict whether the images in the test data are images of cracked concrete or not. You will do the following:\n\n1. Use the **predict_generator** method to predict the class of the images in the test data, by passing the test data ImageDataGenerator instance defined in the previous part as an argument. You can learn more about the **predict_generator** method [here](https://keras.io/models/sequential/).\n2. Report the class predictions of the first five images in the test set. You should print something list this:\n\n<center>\n    <ul style=\"list-style-type:none\">\n        <li>Positive</li>  \n        <li>Negative</li> \n        <li>Positive</li>\n        <li>Positive</li>\n        <li>Negative</li>\n    </ul>\n</center>"
        },
        {
            "metadata": {},
            "cell_type": "markdown",
            "source": "Use the following cells to make your predictions."
        },
        {
            "metadata": {},
            "cell_type": "code",
            "source": "predictedResults = vgg16model.predict_generator(test_generator, steps_per_epoch_testing )",
            "execution_count": 9,
            "outputs": []
        },
        {
            "metadata": {},
            "cell_type": "code",
            "source": "predictedResults[0:5]",
            "execution_count": 10,
            "outputs": [
                {
                    "data": {
                        "text/plain": "array([[0.810372  , 0.18962796],\n       [0.01106675, 0.9889332 ],\n       [0.99520385, 0.00479616],\n       [0.9948291 , 0.00517083],\n       [0.9942551 , 0.00574489]], dtype=float32)"
                    },
                    "execution_count": 10,
                    "metadata": {},
                    "output_type": "execute_result"
                }
            ]
        },
        {
            "metadata": {},
            "cell_type": "code",
            "source": "for i in range(0,5):\n    if predictedResults[i][0] > 0.5:\n        print(\"Negative\")\n    else:\n        print(\"Positive\")",
            "execution_count": 18,
            "outputs": [
                {
                    "name": "stdout",
                    "output_type": "stream",
                    "text": "Negative\nPositive\nNegative\nNegative\nNegative\n"
                }
            ]
        },
        {
            "metadata": {},
            "cell_type": "code",
            "source": "",
            "execution_count": null,
            "outputs": []
        },
        {
            "metadata": {},
            "cell_type": "markdown",
            "source": "  "
        },
        {
            "metadata": {
                "button": false,
                "new_sheet": false,
                "run_control": {
                    "read_only": false
                }
            },
            "cell_type": "markdown",
            "source": "### Thank you for completing this lab!\n\nThis notebook was created by Alex Aklson."
        },
        {
            "metadata": {
                "button": false,
                "new_sheet": false,
                "run_control": {
                    "read_only": false
                }
            },
            "cell_type": "markdown",
            "source": "This notebook is part of a course on **Coursera** called *AI Capstone Project with Deep Learning*. If you accessed this notebook outside the course, you can take this course online by clicking [here](https://cocl.us/DL0321EN_Coursera_Week4_LAB1)."
        },
        {
            "metadata": {
                "button": false,
                "new_sheet": false,
                "run_control": {
                    "read_only": false
                }
            },
            "cell_type": "markdown",
            "source": "<hr>\n\nCopyright &copy; 2020 [IBM Developer Skills Network](https://cognitiveclass.ai/?utm_source=bducopyrightlink&utm_medium=dswb&utm_campaign=bdu). This notebook and its source code are released under the terms of the [MIT License](https://bigdatauniversity.com/mit-license/)."
        }
    ],
    "metadata": {
        "kernelspec": {
            "name": "python3",
            "display_name": "Python 3.6",
            "language": "python"
        },
        "language_info": {
            "name": "python",
            "version": "3.6.9",
            "mimetype": "text/x-python",
            "codemirror_mode": {
                "name": "ipython",
                "version": 3
            },
            "pygments_lexer": "ipython3",
            "nbconvert_exporter": "python",
            "file_extension": ".py"
        }
    },
    "nbformat": 4,
    "nbformat_minor": 4
}